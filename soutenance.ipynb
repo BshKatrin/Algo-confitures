{
 "cells": [
  {
   "cell_type": "code",
   "execution_count": 7,
   "metadata": {},
   "outputs": [],
   "source": [
    "# Les imports\n",
    "from algos import algorithm_Glouton, min_Jars_ite_backtrack, min_Jars_ite, min_Jars_rec, readtxt\n",
    "from time import time\n",
    "from complex import time_cpu, save_csv\n",
    "from algoGlouton import plot_proportion_sys_comp, ecart\n",
    "import os\n",
    "import pandas as pd\n",
    "import matplotlib.pyplot as plt\n",
    "\n",
    "\n",
    "# Variables gloables\n",
    "directory = 'instances'\n",
    "func_name = {min_Jars_ite:'Algo 2 (ver. matricielle)', min_Jars_ite_backtrack:'Algo 2 (ver.backtrack)', algorithm_Glouton:'Algo 3 (glouton)'}"
   ]
  },
  {
   "cell_type": "code",
   "execution_count": 8,
   "metadata": {},
   "outputs": [],
   "source": [
    "# Fonction auxiliaire\n",
    "def print_solution(S, V, k, func, m, A, time):\n",
    "    print(f\"Solution pour S : {S}, V : {V}, k : {k} est: {m} bocaux, A = {A}. {func_name[func]} ({time:.2f} sec)\")\n",
    "\n",
    "def plot_data(file_path):\n",
    "    fig, axes = plt.subplots()\n",
    "\n",
    "    # Charger les données\n",
    "    all_data = pd.read_csv(file_path, index_col=0)\n",
    "\n",
    "    # Tracer S <-> temps pour les colonnes restantes\n",
    "    s_values = all_data.index.to_list()\n",
    "    for k in all_data.columns:\n",
    "        t_values = all_data[k]\n",
    "        axes.plot(s_values, t_values, label=f\"k={k}\")\n",
    "\n",
    "    fig.legend()\n",
    "    axes.set_xlabel(\"S\")\n",
    "    axes.set_ylabel(\"Temps d'exécution (s)\")\n",
    "    plt.show()"
   ]
  },
  {
   "cell_type": "markdown",
   "metadata": {},
   "source": [
    "#### 1. Test des algorithmes\n",
    "Dans cette section, nous examinerons la validité des algorithmes implémentés ainsi que leur complexité en termes de temps d'exécution."
   ]
  },
  {
   "cell_type": "code",
   "execution_count": 9,
   "metadata": {},
   "outputs": [
    {
     "name": "stdout",
     "output_type": "stream",
     "text": [
      "Solution pour S : 151, V : [1, 5, 20], k : 3 est: 10 bocaux, A = [1, 2, 7]. Algo 2 (ver. matricielle) (0.01 sec)\n",
      "Solution pour S : 151, V : [1, 5, 20], k : 3 est: 10 bocaux, A = [1, 2, 7]. Algo 2 (ver.backtrack) (0.00 sec)\n",
      "Solution pour S : 151, V : [1, 5, 20], k : 3 est: 10 bocaux, A = [1, 2, 7]. Algo 3 (glouton) (0.00 sec)\n",
      "\n",
      "Solution pour S : 748, V : [1, 2, 5, 10, 20, 50, 100, 200], k : 8 est: 9 bocaux, A = [1, 1, 1, 0, 2, 0, 1, 3]. Algo 2 (ver. matricielle) (0.04 sec)\n",
      "Solution pour S : 748, V : [1, 2, 5, 10, 20, 50, 100, 200], k : 8 est: 9 bocaux, A = [1, 1, 1, 0, 2, 0, 1, 3]. Algo 2 (ver.backtrack) (0.00 sec)\n",
      "Solution pour S : 748, V : [1, 2, 5, 10, 20, 50, 100, 200], k : 8 est: 9 bocaux, A = [1, 1, 1, 0, 2, 0, 1, 3]. Algo 3 (glouton) (0.00 sec)\n",
      "\n"
     ]
    }
   ],
   "source": [
    "# Lecture des fichiers et détermination de la solution optimale.\n",
    "\n",
    "for filename in os.listdir(directory):\n",
    "    file_path = os.path.join(directory, filename)\n",
    "    if os.path.isfile(file_path):\n",
    "        S, k, V = readtxt(file_path)\n",
    "        for func in func_name.keys():\n",
    "            start = time()\n",
    "            m, A = func(S, V, k)\n",
    "            end = time()\n",
    "            print_solution(S, V, k, func, m, A, end-start)\n",
    "        print()"
   ]
  },
  {
   "cell_type": "code",
   "execution_count": null,
   "metadata": {},
   "outputs": [],
   "source": [
    "# Calcule du temps d'éxecution de l'algorithme 'min_Jars_rec'.\n",
    "df = time_cpu(1000, 5, min_Jars_rec, d=4, max_time=10)\n",
    "save_csv(\"data/min_Jars_rec.csv\", df)"
   ]
  },
  {
   "cell_type": "code",
   "execution_count": 11,
   "metadata": {},
   "outputs": [],
   "source": [
    "# Graphique illustrant la complexité temporelle pour l'algorithme 'min_Jars_rec'.\n",
    "plot_data(\"data/min_Jars_rec.csv\")"
   ]
  },
  {
   "cell_type": "code",
   "execution_count": 6,
   "metadata": {},
   "outputs": [],
   "source": [
    "# Calcule du temps d'éxecution de l'algorithme 'min_Jars_ite'.\n",
    "df = time_cpu(1000, 5, min_Jars_ite, d=4)\n",
    "save_csv(\"data/min_Jars_ite.csv\", df)"
   ]
  },
  {
   "cell_type": "code",
   "execution_count": 12,
   "metadata": {},
   "outputs": [],
   "source": [
    "# Graphique illustrant la complexité temporelle pour l'algorithme 'min_Jars_ite'.\n",
    "plot_data(\"data/min_Jars_ite.csv\")"
   ]
  },
  {
   "cell_type": "code",
   "execution_count": 5,
   "metadata": {},
   "outputs": [],
   "source": [
    "# Calcule du temps d'éxecution de l'algorithme 'min_Jars_ite_backtrack'.\n",
    "df = time_cpu(1000, 5, min_Jars_ite_backtrack, d=4)\n",
    "save_csv(\"data/min_Jars_ite_backtrack.csv\", df)"
   ]
  },
  {
   "cell_type": "code",
   "execution_count": 13,
   "metadata": {},
   "outputs": [],
   "source": [
    "# Graphique illustrant la complexité temporelle pour l'algorithme 'min_Jars_ite_backtrack'.\n",
    "plot_data(\"data/min_Jars_ite_backtrack.csv\")"
   ]
  },
  {
   "cell_type": "code",
   "execution_count": 7,
   "metadata": {},
   "outputs": [],
   "source": [
    "# Calcule du temps d'éxecution de l'algorithme 'algorithm_Glouton'.\n",
    "df = time_cpu(10000, 5, algorithm_Glouton, d=4)\n",
    "save_csv(\"data/algorithm_Glouton.csv\", df)\n",
    "plot_data(\"data/algorithm_Glouton.csv\")"
   ]
  },
  {
   "cell_type": "code",
   "execution_count": 14,
   "metadata": {},
   "outputs": [],
   "source": [
    "# Graphique illustrant la complexité temporelle pour l'algorithme 'algorithm_Glouton'.\n",
    "plot_data(\"data/algorithm_Glouton.csv\")"
   ]
  },
  {
   "cell_type": "markdown",
   "metadata": {},
   "source": [
    "#### 2. Utilisation de l'algorithme Glouton\n",
    "Dans cette section, nous nous pencherons sur deux aspects principaux :  \n",
    "> - La fréquence d'occurrence des systèmes compatibles avec les algorithmes gloutons.  \n",
    "> - L'évaluation de l'écart maximal et de l'écart moyen entre la valeur de la solution optimale et celle obtenue par l'algorithme glouton pour les systèmes non glouton-compatibles."
   ]
  },
  {
   "cell_type": "code",
   "execution_count": 8,
   "metadata": {},
   "outputs": [
    {
     "name": "stderr",
     "output_type": "stream",
     "text": [
      "100%|██████████| 100/100 [01:01<00:00,  1.64it/s]\n"
     ]
    }
   ],
   "source": [
    "# Fréquence d'occurence des systèmes compatibles avec les algorithmes gloutons.\n",
    "plot_proportion_sys_comp(pmax= 100, kmax= 100, x= 10)"
   ]
  },
  {
   "cell_type": "code",
   "execution_count": 4,
   "metadata": {},
   "outputs": [
    {
     "name": "stderr",
     "output_type": "stream",
     "text": [
      "100%|██████████| 20/20 [00:25<00:00,  1.25s/it]\n",
      "qt.qpa.plugin: Could not find the Qt platform plugin \"wayland\" in \"\"\n"
     ]
    }
   ],
   "source": [
    "# Evaluation de l'écart maximal et de l'écart moyen entre la valeur de la solution optimale et celle obtenue par l'algorithme glouton.\n",
    "ecart(20, 20)"
   ]
  }
 ],
 "metadata": {
  "kernelspec": {
   "display_name": "myenv",
   "language": "python",
   "name": "python3"
  },
  "language_info": {
   "codemirror_mode": {
    "name": "ipython",
    "version": 3
   },
   "file_extension": ".py",
   "mimetype": "text/x-python",
   "name": "python",
   "nbconvert_exporter": "python",
   "pygments_lexer": "ipython3",
   "version": "3.12.3"
  }
 },
 "nbformat": 4,
 "nbformat_minor": 2
}
