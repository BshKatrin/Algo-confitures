{
 "cells": [
  {
   "cell_type": "code",
   "execution_count": 1,
   "metadata": {},
   "outputs": [],
   "source": [
    "# Les imports\n",
    "from algos import algorithm_Glouton, min_Jars_ite_backtrack, min_Jars_ite, min_Jars_rec, readtxt\n",
    "from time import time\n",
    "from complex import time_cpu, save_csv\n",
    "from algoGlouton import plot_proportion_sys_comp, ecart\n",
    "import os\n",
    "import pandas as pd\n",
    "import matplotlib.pyplot as plt\n",
    "\n",
    "\n",
    "# Variables gloables\n",
    "directory = 'instances'\n",
    "func_name = {min_Jars_ite:'Algo 2 (ver. matricielle)', min_Jars_ite_backtrack:'Algo 2 (ver.backtrack)', algorithm_Glouton:'Algo 3 (glouton)'}"
   ]
  },
  {
   "cell_type": "code",
   "execution_count": 2,
   "metadata": {},
   "outputs": [],
   "source": [
    "# Fonction auxiliaire\n",
    "def print_solution(S, V, k, func, m, A, time):\n",
    "    print(f\"Solution pour S : {S}, V : {V}, k : {k} est: {m} bocaux, A = {A}. {func_name[func]} ({time:.2f} sec)\")\n",
    "\n",
    "def plot_data(file_path):\n",
    "    fig, axes = plt.subplots()\n",
    "\n",
    "    # Charger les données\n",
    "    all_data = pd.read_csv(file_path, index_col=0)\n",
    "\n",
    "    # Tracer S <-> temps pour les colonnes restantes\n",
    "    s_values = all_data.index.to_list()\n",
    "    for k in all_data.columns:\n",
    "        t_values = all_data[k]\n",
    "        axes.plot(s_values, t_values, label=f\"k={k}\")\n",
    "\n",
    "    fig.legend()\n",
    "    axes.set_xlabel(\"S\")\n",
    "    axes.set_ylabel(\"Temps d'exécution (s)\")\n",
    "    plt.show()"
   ]
  },
  {
   "cell_type": "markdown",
   "metadata": {},
   "source": [
    "#### 1. Test des algorithmes\n",
    "Dans cette section, nous examinerons la validité des algorithmes implémentés ainsi que leur complexité en termes de temps d'exécution."
   ]
  },
  {
   "cell_type": "code",
   "execution_count": 4,
   "metadata": {},
   "outputs": [
    {
     "name": "stdout",
     "output_type": "stream",
     "text": [
      "Solution pour S : 151, V : [1, 5, 20], k : 3 est: 10 bocaux, A = [1, 2, 7]. Algo 2 (ver. matricielle) (0.00 sec)\n",
      "Solution pour S : 151, V : [1, 5, 20], k : 3 est: 10 bocaux, A = [1, 2, 7]. Algo 2 (ver.backtrack) (0.00 sec)\n",
      "Solution pour S : 151, V : [1, 5, 20], k : 3 est: 10 bocaux, A = [1, 2, 7]. Algo 3 (glouton) (0.00 sec)\n",
      "\n",
      "Solution pour S : 748, V : [1, 2, 5, 10, 20, 50, 100, 200], k : 8 est: 9 bocaux, A = [1, 1, 1, 0, 2, 0, 1, 3]. Algo 2 (ver. matricielle) (0.03 sec)\n",
      "Solution pour S : 748, V : [1, 2, 5, 10, 20, 50, 100, 200], k : 8 est: 9 bocaux, A = [1, 1, 1, 0, 2, 0, 1, 3]. Algo 2 (ver.backtrack) (0.00 sec)\n",
      "Solution pour S : 748, V : [1, 2, 5, 10, 20, 50, 100, 200], k : 8 est: 9 bocaux, A = [1, 1, 1, 0, 2, 0, 1, 3]. Algo 3 (glouton) (0.00 sec)\n",
      "\n"
     ]
    }
   ],
   "source": [
    "# Lecture des fichiers et détermination de la solution optimale.\n",
    "\n",
    "for filename in os.listdir(directory):\n",
    "    file_path = os.path.join(directory, filename)\n",
    "    if os.path.isfile(file_path):\n",
    "        S, k, V = readtxt(file_path)\n",
    "        for func in func_name.keys():\n",
    "            start = time()\n",
    "            m, A = func(S, V, k)\n",
    "            end = time()\n",
    "            print_solution(S, V, k, func, m, A, end-start)\n",
    "        print()"
   ]
  },
  {
   "cell_type": "code",
   "execution_count": 4,
   "metadata": {},
   "outputs": [
    {
     "ename": "KeyboardInterrupt",
     "evalue": "",
     "output_type": "error",
     "traceback": [
      "\u001b[0;31m---------------------------------------------------------------------------\u001b[0m",
      "\u001b[0;31mKeyboardInterrupt\u001b[0m                         Traceback (most recent call last)",
      "Cell \u001b[0;32mIn[4], line 2\u001b[0m\n\u001b[1;32m      1\u001b[0m \u001b[38;5;66;03m# Graphique illustrant la complexité temporelle pour l'algorithme 01.\u001b[39;00m\n\u001b[0;32m----> 2\u001b[0m df \u001b[38;5;241m=\u001b[39m \u001b[43mtime_cpu\u001b[49m\u001b[43m(\u001b[49m\u001b[38;5;241;43m1000\u001b[39;49m\u001b[43m,\u001b[49m\u001b[43m \u001b[49m\u001b[38;5;241;43m5\u001b[39;49m\u001b[43m,\u001b[49m\u001b[43m \u001b[49m\u001b[43mmin_Jars_rec\u001b[49m\u001b[43m,\u001b[49m\u001b[43m \u001b[49m\u001b[43md\u001b[49m\u001b[38;5;241;43m=\u001b[39;49m\u001b[38;5;241;43m4\u001b[39;49m\u001b[43m,\u001b[49m\u001b[43m \u001b[49m\u001b[43mmax_time\u001b[49m\u001b[38;5;241;43m=\u001b[39;49m\u001b[38;5;241;43m10\u001b[39;49m\u001b[43m)\u001b[49m\n\u001b[1;32m      3\u001b[0m save_csv(\u001b[38;5;124m\"\u001b[39m\u001b[38;5;124mdata/min_Jars_rec.csv\u001b[39m\u001b[38;5;124m\"\u001b[39m, df)\n\u001b[1;32m      4\u001b[0m plot_data(\u001b[38;5;124m\"\u001b[39m\u001b[38;5;124mdata/min_Jars_rec.csv\u001b[39m\u001b[38;5;124m\"\u001b[39m)\n",
      "File \u001b[0;32m~/Documents/LU3IN003/complex.py:55\u001b[0m, in \u001b[0;36mtime_cpu\u001b[0;34m(Smax, kmax, func, d, max_time)\u001b[0m\n\u001b[1;32m     52\u001b[0m \u001b[38;5;66;03m# print(V)\u001b[39;00m\n\u001b[1;32m     53\u001b[0m \u001b[38;5;66;03m# Chronométrer l'exécution de la fonction func(x, V, y)\u001b[39;00m\n\u001b[1;32m     54\u001b[0m timeStart \u001b[38;5;241m=\u001b[39m time\u001b[38;5;241m.\u001b[39mtime()  \u001b[38;5;66;03m# Démarrer le chrono\u001b[39;00m\n\u001b[0;32m---> 55\u001b[0m \u001b[43mfunc\u001b[49m\u001b[43m(\u001b[49m\u001b[43mx\u001b[49m\u001b[43m,\u001b[49m\u001b[43m \u001b[49m\u001b[43mV\u001b[49m\u001b[43m,\u001b[49m\u001b[43m \u001b[49m\u001b[43my\u001b[49m\u001b[43m)\u001b[49m            \u001b[38;5;66;03m# Appeler la fonction `func`\u001b[39;00m\n\u001b[1;32m     56\u001b[0m timeEnd \u001b[38;5;241m=\u001b[39m time\u001b[38;5;241m.\u001b[39mtime()    \u001b[38;5;66;03m# Arrêter le chrono\u001b[39;00m\n\u001b[1;32m     58\u001b[0m \u001b[38;5;66;03m# Stocker la durée d'exécution (sec) dans la cellule correspondante du DataFrame\u001b[39;00m\n",
      "File \u001b[0;32m~/Documents/LU3IN003/algos.py:60\u001b[0m, in \u001b[0;36mmin_Jars_rec\u001b[0;34m(S, V, k)\u001b[0m\n\u001b[1;32m     57\u001b[0m     \u001b[38;5;28;01mreturn\u001b[39;00m inf\n\u001b[1;32m     59\u001b[0m \u001b[38;5;66;03m# Cas récursif : on choisit soit de ne pas prendre le pot k-1, soit de le prendre\u001b[39;00m\n\u001b[0;32m---> 60\u001b[0m \u001b[38;5;28;01mreturn\u001b[39;00m \u001b[38;5;28mmin\u001b[39m(min_Jars_rec(S, V, k \u001b[38;5;241m-\u001b[39m \u001b[38;5;241m1\u001b[39m), \u001b[43mmin_Jars_rec\u001b[49m\u001b[43m(\u001b[49m\u001b[43mS\u001b[49m\u001b[43m \u001b[49m\u001b[38;5;241;43m-\u001b[39;49m\u001b[43m \u001b[49m\u001b[43mV\u001b[49m\u001b[43m[\u001b[49m\u001b[43mk\u001b[49m\u001b[43m \u001b[49m\u001b[38;5;241;43m-\u001b[39;49m\u001b[43m \u001b[49m\u001b[38;5;241;43m1\u001b[39;49m\u001b[43m]\u001b[49m\u001b[43m,\u001b[49m\u001b[43m \u001b[49m\u001b[43mV\u001b[49m\u001b[43m,\u001b[49m\u001b[43m \u001b[49m\u001b[43mk\u001b[49m\u001b[43m)\u001b[49m \u001b[38;5;241m+\u001b[39m \u001b[38;5;241m1\u001b[39m)\n",
      "File \u001b[0;32m~/Documents/LU3IN003/algos.py:60\u001b[0m, in \u001b[0;36mmin_Jars_rec\u001b[0;34m(S, V, k)\u001b[0m\n\u001b[1;32m     57\u001b[0m     \u001b[38;5;28;01mreturn\u001b[39;00m inf\n\u001b[1;32m     59\u001b[0m \u001b[38;5;66;03m# Cas récursif : on choisit soit de ne pas prendre le pot k-1, soit de le prendre\u001b[39;00m\n\u001b[0;32m---> 60\u001b[0m \u001b[38;5;28;01mreturn\u001b[39;00m \u001b[38;5;28mmin\u001b[39m(min_Jars_rec(S, V, k \u001b[38;5;241m-\u001b[39m \u001b[38;5;241m1\u001b[39m), \u001b[43mmin_Jars_rec\u001b[49m\u001b[43m(\u001b[49m\u001b[43mS\u001b[49m\u001b[43m \u001b[49m\u001b[38;5;241;43m-\u001b[39;49m\u001b[43m \u001b[49m\u001b[43mV\u001b[49m\u001b[43m[\u001b[49m\u001b[43mk\u001b[49m\u001b[43m \u001b[49m\u001b[38;5;241;43m-\u001b[39;49m\u001b[43m \u001b[49m\u001b[38;5;241;43m1\u001b[39;49m\u001b[43m]\u001b[49m\u001b[43m,\u001b[49m\u001b[43m \u001b[49m\u001b[43mV\u001b[49m\u001b[43m,\u001b[49m\u001b[43m \u001b[49m\u001b[43mk\u001b[49m\u001b[43m)\u001b[49m \u001b[38;5;241m+\u001b[39m \u001b[38;5;241m1\u001b[39m)\n",
      "    \u001b[0;31m[... skipping similar frames: min_Jars_rec at line 60 (273 times)]\u001b[0m\n",
      "File \u001b[0;32m~/Documents/LU3IN003/algos.py:60\u001b[0m, in \u001b[0;36mmin_Jars_rec\u001b[0;34m(S, V, k)\u001b[0m\n\u001b[1;32m     57\u001b[0m     \u001b[38;5;28;01mreturn\u001b[39;00m inf\n\u001b[1;32m     59\u001b[0m \u001b[38;5;66;03m# Cas récursif : on choisit soit de ne pas prendre le pot k-1, soit de le prendre\u001b[39;00m\n\u001b[0;32m---> 60\u001b[0m \u001b[38;5;28;01mreturn\u001b[39;00m \u001b[38;5;28;43mmin\u001b[39;49m\u001b[43m(\u001b[49m\u001b[43mmin_Jars_rec\u001b[49m\u001b[43m(\u001b[49m\u001b[43mS\u001b[49m\u001b[43m,\u001b[49m\u001b[43m \u001b[49m\u001b[43mV\u001b[49m\u001b[43m,\u001b[49m\u001b[43m \u001b[49m\u001b[43mk\u001b[49m\u001b[43m \u001b[49m\u001b[38;5;241;43m-\u001b[39;49m\u001b[43m \u001b[49m\u001b[38;5;241;43m1\u001b[39;49m\u001b[43m)\u001b[49m\u001b[43m,\u001b[49m\u001b[43m \u001b[49m\u001b[43mmin_Jars_rec\u001b[49m\u001b[43m(\u001b[49m\u001b[43mS\u001b[49m\u001b[43m \u001b[49m\u001b[38;5;241;43m-\u001b[39;49m\u001b[43m \u001b[49m\u001b[43mV\u001b[49m\u001b[43m[\u001b[49m\u001b[43mk\u001b[49m\u001b[43m \u001b[49m\u001b[38;5;241;43m-\u001b[39;49m\u001b[43m \u001b[49m\u001b[38;5;241;43m1\u001b[39;49m\u001b[43m]\u001b[49m\u001b[43m,\u001b[49m\u001b[43m \u001b[49m\u001b[43mV\u001b[49m\u001b[43m,\u001b[49m\u001b[43m \u001b[49m\u001b[43mk\u001b[49m\u001b[43m)\u001b[49m\u001b[43m \u001b[49m\u001b[38;5;241;43m+\u001b[39;49m\u001b[43m \u001b[49m\u001b[38;5;241;43m1\u001b[39;49m\u001b[43m)\u001b[49m\n",
      "\u001b[0;31mKeyboardInterrupt\u001b[0m: "
     ]
    }
   ],
   "source": [
    "# Graphique illustrant la complexité temporelle pour l'algorithme 01.\n",
    "df = time_cpu(1000, 5, min_Jars_rec, d=4, max_time=10)\n",
    "save_csv(\"data/min_Jars_rec.csv\", df)\n",
    "plot_data(\"data/min_Jars_rec.csv\")"
   ]
  },
  {
   "cell_type": "code",
   "execution_count": 6,
   "metadata": {},
   "outputs": [],
   "source": [
    "# Graphique illustrant la complexité temporelle pour l'algorithme 02.\n",
    "df = time_cpu(1000, 5, min_Jars_ite, d=4)\n",
    "save_csv(\"data/min_Jars_ite.csv\", df)\n",
    "plot_data(\"data/min_Jars_ite.csv\")"
   ]
  },
  {
   "cell_type": "code",
   "execution_count": 5,
   "metadata": {},
   "outputs": [],
   "source": [
    "# Graphique illustrant la complexité temporelle pour l'algorithme 02 avec retour sur trace.\n",
    "df = time_cpu(1000, 5, min_Jars_ite_backtrack, d=4)\n",
    "save_csv(\"data/min_Jars_ite_backtrack.csv\", df)\n",
    "plot_data(\"data/min_Jars_ite_backtrack.csv\")"
   ]
  },
  {
   "cell_type": "code",
   "execution_count": 7,
   "metadata": {},
   "outputs": [],
   "source": [
    "# Graphique illustrant la complexité temporelle pour l'algorithme 03.\n",
    "df = time_cpu(10000, 5, algorithm_Glouton, d=4)\n",
    "save_csv(\"data/algorithm_Glouton.csv\", df)\n",
    "plot_data(\"data/algorithm_Glouton.csv\")"
   ]
  },
  {
   "cell_type": "markdown",
   "metadata": {},
   "source": [
    "#### 2. Utilisation de l'algorithme Glouton\n",
    "Dans cette section, nous nous pencherons sur deux aspects principaux :  \n",
    "> - La fréquence d'occurrence des systèmes compatibles avec les algorithmes gloutons.  \n",
    "> - L'évaluation de l'écart maximal et de l'écart moyen entre la valeur de la solution optimale et celle obtenue par l'algorithme glouton."
   ]
  },
  {
   "cell_type": "code",
   "execution_count": 8,
   "metadata": {},
   "outputs": [
    {
     "name": "stderr",
     "output_type": "stream",
     "text": [
      "100%|██████████| 100/100 [01:01<00:00,  1.64it/s]\n"
     ]
    }
   ],
   "source": [
    "# Fréquence d'occurence des systèmes compatibles avec les algorithmes gloutons.\n",
    "plot_proportion_sys_comp(pmax= 100, kmax= 100, x= 10)"
   ]
  },
  {
   "cell_type": "code",
   "execution_count": 4,
   "metadata": {},
   "outputs": [
    {
     "name": "stderr",
     "output_type": "stream",
     "text": [
      "100%|██████████| 20/20 [00:25<00:00,  1.25s/it]\n",
      "qt.qpa.plugin: Could not find the Qt platform plugin \"wayland\" in \"\"\n"
     ]
    }
   ],
   "source": [
    "# Evaluation de l'écart maximal et de l'écart moyen entre la valeur de la solution optimale et celle obtenue par l'algorithme glouton.\n",
    "ecart(20, 20)"
   ]
  }
 ],
 "metadata": {
  "kernelspec": {
   "display_name": "myenv",
   "language": "python",
   "name": "python3"
  },
  "language_info": {
   "codemirror_mode": {
    "name": "ipython",
    "version": 3
   },
   "file_extension": ".py",
   "mimetype": "text/x-python",
   "name": "python",
   "nbconvert_exporter": "python",
   "pygments_lexer": "ipython3",
   "version": "3.12.3"
  }
 },
 "nbformat": 4,
 "nbformat_minor": 2
}
